{
 "cells": [
  {
   "cell_type": "markdown",
   "id": "statewide-costs",
   "metadata": {},
   "source": [
    "# Model Creation\n",
    "\n",
    "In this notebook, I create a simple Naive Bayes model to identify the language that a test is written in. I create the model using sklearn and then save it locally. "
   ]
  },
  {
   "cell_type": "markdown",
   "id": "described-violation",
   "metadata": {},
   "source": [
    "## Load and explore the data\n",
    "\n",
    "In this section I load the data from the SQL database, load it into pandas, and explore it."
   ]
  },
  {
   "cell_type": "code",
   "execution_count": 2,
   "id": "hired-poster",
   "metadata": {},
   "outputs": [],
   "source": [
    "import numpy as np\n",
    "import pandas as pd\n",
    "import matplotlib.pyplot as plt\n",
    "from sqlalchemy import create_engine"
   ]
  },
  {
   "cell_type": "code",
   "execution_count": 3,
   "id": "extreme-sculpture",
   "metadata": {},
   "outputs": [],
   "source": [
    "# Connect to the database and add it to a pandas dataframe\n",
    "sql_db = create_engine(\"sqlite:///../scraper/language_data.db\")\n",
    "conn = sql_db.connect()\n",
    "res = conn.execute(\"SELECT * FROM wiki_data\")\n",
    "df = pd.DataFrame(np.array([row for row in res]))\n",
    "df = df.rename(columns={0: \"article_title\", 1: \"language\", 2: \"text\"})"
   ]
  },
  {
   "cell_type": "code",
   "execution_count": 4,
   "id": "comprehensive-synthetic",
   "metadata": {},
   "outputs": [
    {
     "data": {
      "text/html": [
       "<div>\n",
       "<style scoped>\n",
       "    .dataframe tbody tr th:only-of-type {\n",
       "        vertical-align: middle;\n",
       "    }\n",
       "\n",
       "    .dataframe tbody tr th {\n",
       "        vertical-align: top;\n",
       "    }\n",
       "\n",
       "    .dataframe thead th {\n",
       "        text-align: right;\n",
       "    }\n",
       "</style>\n",
       "<table border=\"1\" class=\"dataframe\">\n",
       "  <thead>\n",
       "    <tr style=\"text-align: right;\">\n",
       "      <th></th>\n",
       "      <th>article_title</th>\n",
       "      <th>language</th>\n",
       "      <th>text</th>\n",
       "    </tr>\n",
       "  </thead>\n",
       "  <tbody>\n",
       "    <tr>\n",
       "      <th>0</th>\n",
       "      <td>ŽenavmnožnémčísleNezval</td>\n",
       "      <td>pl</td>\n",
       "      <td>Žena v množném čísle – tomik wierszy czeskiego...</td>\n",
       "    </tr>\n",
       "    <tr>\n",
       "      <th>1</th>\n",
       "      <td>Eteltyda</td>\n",
       "      <td>pl</td>\n",
       "      <td>Eteltyda Aedilthyda Edilthruda Æthelthida  żył...</td>\n",
       "    </tr>\n",
       "    <tr>\n",
       "      <th>2</th>\n",
       "      <td>CieńPoego</td>\n",
       "      <td>pl</td>\n",
       "      <td>Cień Poego ang The Poe Shadow – powieść autors...</td>\n",
       "    </tr>\n",
       "    <tr>\n",
       "      <th>3</th>\n",
       "      <td>BernabòVisconti</td>\n",
       "      <td>pl</td>\n",
       "      <td>Bernabò Visconti ur 1323 w Mediolanie; zm 18 g...</td>\n",
       "    </tr>\n",
       "    <tr>\n",
       "      <th>4</th>\n",
       "      <td>OłeśHonczar</td>\n",
       "      <td>pl</td>\n",
       "      <td>Ołeś Honczar ukr Олесь Терентійович Гончар Ołe...</td>\n",
       "    </tr>\n",
       "    <tr>\n",
       "      <th>...</th>\n",
       "      <td>...</td>\n",
       "      <td>...</td>\n",
       "      <td>...</td>\n",
       "    </tr>\n",
       "    <tr>\n",
       "      <th>95</th>\n",
       "      <td>Aegyptobiafallugia</td>\n",
       "      <td>sv</td>\n",
       "      <td>Aegyptobia fallugia är en spindeldjursart som ...</td>\n",
       "    </tr>\n",
       "    <tr>\n",
       "      <th>96</th>\n",
       "      <td>KekoluotoöiSödraSavolaxNyslott</td>\n",
       "      <td>sv</td>\n",
       "      <td>Kekoluoto är en ö i Finland Den ligger i sjön ...</td>\n",
       "    </tr>\n",
       "    <tr>\n",
       "      <th>97</th>\n",
       "      <td>Malgovik</td>\n",
       "      <td>sv</td>\n",
       "      <td>Malgovik sydsamiska: Malkoemahkie är en by och...</td>\n",
       "    </tr>\n",
       "    <tr>\n",
       "      <th>98</th>\n",
       "      <td>RíoCachiMayuvattendraglat1931long6527</td>\n",
       "      <td>sv</td>\n",
       "      <td>Río Cachi Mayu är ett vattendrag i Bolivia   D...</td>\n",
       "    </tr>\n",
       "    <tr>\n",
       "      <th>99</th>\n",
       "      <td>Beadnell</td>\n",
       "      <td>sv</td>\n",
       "      <td>Beadnell är en ort och civil parish i Storbrit...</td>\n",
       "    </tr>\n",
       "  </tbody>\n",
       "</table>\n",
       "<p>100 rows × 3 columns</p>\n",
       "</div>"
      ],
      "text/plain": [
       "                            article_title language  \\\n",
       "0                 ŽenavmnožnémčísleNezval       pl   \n",
       "1                                Eteltyda       pl   \n",
       "2                               CieńPoego       pl   \n",
       "3                         BernabòVisconti       pl   \n",
       "4                             OłeśHonczar       pl   \n",
       "..                                    ...      ...   \n",
       "95                     Aegyptobiafallugia       sv   \n",
       "96         KekoluotoöiSödraSavolaxNyslott       sv   \n",
       "97                               Malgovik       sv   \n",
       "98  RíoCachiMayuvattendraglat1931long6527       sv   \n",
       "99                               Beadnell       sv   \n",
       "\n",
       "                                                 text  \n",
       "0   Žena v množném čísle – tomik wierszy czeskiego...  \n",
       "1   Eteltyda Aedilthyda Edilthruda Æthelthida  żył...  \n",
       "2   Cień Poego ang The Poe Shadow – powieść autors...  \n",
       "3   Bernabò Visconti ur 1323 w Mediolanie; zm 18 g...  \n",
       "4   Ołeś Honczar ukr Олесь Терентійович Гончар Ołe...  \n",
       "..                                                ...  \n",
       "95  Aegyptobia fallugia är en spindeldjursart som ...  \n",
       "96  Kekoluoto är en ö i Finland Den ligger i sjön ...  \n",
       "97  Malgovik sydsamiska: Malkoemahkie är en by och...  \n",
       "98  Río Cachi Mayu är ett vattendrag i Bolivia   D...  \n",
       "99  Beadnell är en ort och civil parish i Storbrit...  \n",
       "\n",
       "[100 rows x 3 columns]"
      ]
     },
     "execution_count": 4,
     "metadata": {},
     "output_type": "execute_result"
    }
   ],
   "source": [
    "# Show a sample of the data\n",
    "df.head(100)"
   ]
  },
  {
   "cell_type": "code",
   "execution_count": 5,
   "id": "adjustable-thumbnail",
   "metadata": {},
   "outputs": [
    {
     "data": {
      "text/plain": [
       "[<matplotlib.lines.Line2D at 0x7f97331c9ca0>]"
      ]
     },
     "execution_count": 5,
     "metadata": {},
     "output_type": "execute_result"
    },
    {
     "data": {
      "image/png": "[encoded data removed]",
      "text/plain": [
       "<Figure size 432x288 with 1 Axes>"
      ]
     },
     "metadata": {
      "needs_background": "light"
     },
     "output_type": "display_data"
    }
   ],
   "source": [
    "# Plot the number of articles downloaded per language.\n",
    "plt.plot(df.value_counts(\"language\"))"
   ]
  },
  {
   "cell_type": "markdown",
   "id": "nervous-capture",
   "metadata": {},
   "source": [
    "Notice that Cebuano (_ceb_), a relatively small language from the Philippines, has a very large number of articles - the second most after English! This anomaly was caused by a bot automatically translating articles into Cebuano [source](https://www.quora.com/Why-are-there-so-many-articles-in-the-Cebuano-language-on-Wikipedia). If the goal of the model is to sample a random Wikipedia article and then determine its language, this data distribution is acceptable. However, if this model is intended to be used in other environments - such as identifying the language of texts - then the distribution of data should be modified: less Cebuano, more Chinese - you might want to distribute articles relative to the number of speakers per language. Let's modify the distribution in a very simple way:"
   ]
  },
  {
   "cell_type": "code",
   "execution_count": 6,
   "id": "acquired-workplace",
   "metadata": {},
   "outputs": [
    {
     "data": {
      "text/plain": [
       "[<matplotlib.lines.Line2D at 0x7f96dccacca0>]"
      ]
     },
     "execution_count": 6,
     "metadata": {},
     "output_type": "execute_result"
    },
    {
     "data": {
      "image/png": "[encoded data removed]",
      "text/plain": [
       "<Figure size 432x288 with 1 Axes>"
      ]
     },
     "metadata": {
      "needs_background": "light"
     },
     "output_type": "display_data"
    }
   ],
   "source": [
    "# Generate a query that grabs at most 100 articles from each language.\n",
    "new_sql_query = \"\"\"\n",
    "SELECT *\n",
    "  FROM (\n",
    "    SELECT *, RANK()\n",
    "      OVER (PARTITION BY language ORDER BY title DESC) AS ranks\n",
    "    FROM wiki_data) x\n",
    "  WHERE ranks <= 75\n",
    "\"\"\"\n",
    "\n",
    "# Connect to the database and add it to a pandas dataframe\n",
    "sql_db = create_engine(\"sqlite:///../scraper/language_data.db\")\n",
    "conn = sql_db.connect()\n",
    "res = conn.execute(new_sql_query)\n",
    "df = pd.DataFrame(np.array([row for row in res]))\n",
    "df = df.rename(columns={0: \"article_title\", 1: \"language\", 2: \"text\"})\n",
    "\n",
    "# Plot the number of articles downloaded per language.\n",
    "plt.plot(df.value_counts(\"language\"))"
   ]
  },
  {
   "cell_type": "markdown",
   "id": "covered-acrylic",
   "metadata": {},
   "source": [
    "## Modeling\n",
    "\n",
    "In this section I create a Multinomial Naive Bayes model that will determine the language given a piece of text."
   ]
  },
  {
   "cell_type": "code",
   "execution_count": 8,
   "id": "swiss-cuisine",
   "metadata": {},
   "outputs": [],
   "source": [
    "from sklearn import preprocessing\n",
    "from sklearn.feature_extraction.text import CountVectorizer, TfidfTransformer\n",
    "from sklearn.model_selection import train_test_split\n",
    "from sklearn.naive_bayes import MultinomialNB"
   ]
  },
  {
   "cell_type": "code",
   "execution_count": 9,
   "id": "german-halifax",
   "metadata": {},
   "outputs": [
    {
     "data": {
      "text/plain": [
       "(786, 54472)"
      ]
     },
     "execution_count": 9,
     "metadata": {},
     "output_type": "execute_result"
    }
   ],
   "source": [
    "# Encode the training data.\n",
    "text = df[\"text\"]\n",
    "\n",
    "count_vect = CountVectorizer()\n",
    "X = count_vect.fit_transform(text)\n",
    "\n",
    "# Transform this to tfidf counts.\n",
    "tfidf_transformer = TfidfTransformer()\n",
    "X = tfidf_transformer.fit_transform(X)\n",
    "\n",
    "# Show the shape of the matrix:\n",
    "# (num_rows, len_vocabulary)\n",
    "X.shape"
   ]
  },
  {
   "cell_type": "code",
   "execution_count": 10,
   "id": "surprised-cursor",
   "metadata": {},
   "outputs": [
    {
     "data": {
      "text/plain": [
       "array(['arz', 'ceb', 'de', 'en', 'es', 'fr', 'it', 'ja', 'nl', 'pl', 'ru',\n",
       "       'sv', 'vi', 'zh'], dtype=object)"
      ]
     },
     "execution_count": 10,
     "metadata": {},
     "output_type": "execute_result"
    }
   ],
   "source": [
    "# Encode the labels - keep track of this so that the language id can be reconstructed later\n",
    "labels = df[\"language\"]\n",
    "\n",
    "label_encoder = preprocessing.LabelEncoder()\n",
    "label_encoder.fit(labels)\n",
    "y = label_encoder.transform(labels)\n",
    "\n",
    "# Show the classes\n",
    "label_encoder.classes_"
   ]
  },
  {
   "cell_type": "code",
   "execution_count": 11,
   "id": "auburn-pencil",
   "metadata": {},
   "outputs": [
    {
     "data": {
      "text/plain": [
       "array(['fr', 'fr', 'ceb', 'arz'], dtype=object)"
      ]
     },
     "execution_count": 11,
     "metadata": {},
     "output_type": "execute_result"
    }
   ],
   "source": [
    "# Go from the numerical code to the language:\n",
    "label_encoder.inverse_transform([5, 5, 1, 0])"
   ]
  },
  {
   "cell_type": "code",
   "execution_count": 12,
   "id": "speaking-bread",
   "metadata": {},
   "outputs": [],
   "source": [
    "# Make a 80-20 train-test split.\n",
    "X_train, X_test, y_train, y_test = train_test_split(X, y, test_size=0.2, random_state=42)"
   ]
  },
  {
   "cell_type": "code",
   "execution_count": 13,
   "id": "incident-economics",
   "metadata": {},
   "outputs": [],
   "source": [
    "# Train a multinomial Naive Bayes classifier.\n",
    "classifier = MultinomialNB().fit(X_train, y_train)"
   ]
  },
  {
   "cell_type": "markdown",
   "id": "revised-croatia",
   "metadata": {},
   "source": [
    "## Testing\n",
    "In this section, I test out the model and develop some utilities for easily checking its output."
   ]
  },
  {
   "cell_type": "code",
   "execution_count": 14,
   "id": "bearing-observation",
   "metadata": {},
   "outputs": [],
   "source": [
    "from sklearn.metrics import f1_score\n",
    "from sklearn.metrics import plot_confusion_matrix\n",
    "from matplotlib.pyplot import figure"
   ]
  },
  {
   "cell_type": "code",
   "execution_count": 15,
   "id": "right-split",
   "metadata": {},
   "outputs": [],
   "source": [
    "# Specify the true labels and the model's prediction\n",
    "y_true = y_test\n",
    "y_pred = classifier.predict(X_test)"
   ]
  },
  {
   "cell_type": "code",
   "execution_count": 16,
   "id": "ancient-bhutan",
   "metadata": {},
   "outputs": [
    {
     "ename": "NameError",
     "evalue": "name 'le' is not defined",
     "output_type": "error",
     "traceback": [
      "\u001b[0;31m---------------------------------------------------------------------------\u001b[0m",
      "\u001b[0;31mNameError\u001b[0m                                 Traceback (most recent call last)",
      "\u001b[0;32m<ipython-input-16-505ce924e735>\u001b[0m in \u001b[0;36m<module>\u001b[0;34m\u001b[0m\n\u001b[1;32m      3\u001b[0m \u001b[0;34m\u001b[0m\u001b[0m\n\u001b[1;32m      4\u001b[0m disp = plot_confusion_matrix(classifier, X_test, y_test,\n\u001b[0;32m----> 5\u001b[0;31m                              \u001b[0mdisplay_labels\u001b[0m\u001b[0;34m=\u001b[0m\u001b[0mle\u001b[0m\u001b[0;34m.\u001b[0m\u001b[0mclasses_\u001b[0m\u001b[0;34m,\u001b[0m\u001b[0;34m\u001b[0m\u001b[0;34m\u001b[0m\u001b[0m\n\u001b[0m\u001b[1;32m      6\u001b[0m                              \u001b[0mcmap\u001b[0m\u001b[0;34m=\u001b[0m\u001b[0mplt\u001b[0m\u001b[0;34m.\u001b[0m\u001b[0mcm\u001b[0m\u001b[0;34m.\u001b[0m\u001b[0mBlues\u001b[0m\u001b[0;34m,\u001b[0m\u001b[0;34m\u001b[0m\u001b[0;34m\u001b[0m\u001b[0m\n\u001b[1;32m      7\u001b[0m \u001b[0;31m#                              normalize=\"true\",\u001b[0m\u001b[0;34m\u001b[0m\u001b[0;34m\u001b[0m\u001b[0;34m\u001b[0m\u001b[0m\n",
      "\u001b[0;31mNameError\u001b[0m: name 'le' is not defined"
     ]
    },
    {
     "data": {
      "image/png": "[encoded data removed]",
      "text/plain": [
       "<Figure size 720x720 with 1 Axes>"
      ]
     },
     "metadata": {
      "needs_background": "light"
     },
     "output_type": "display_data"
    }
   ],
   "source": [
    "# Plot a confusion matrix\n",
    "fig, ax = plt.subplots(figsize=(10, 10))\n",
    "\n",
    "disp = plot_confusion_matrix(classifier, X_test, y_test,\n",
    "                             display_labels=label_encoder.classes_,\n",
    "                             cmap=plt.cm.Blues,\n",
    "#                              normalize=\"true\",\n",
    "                             ax=ax)\n",
    "disp.ax_.set_title(\"Un-normalized confusion matrix\")\n",
    "plt.show()"
   ]
  },
  {
   "cell_type": "markdown",
   "id": "electronic-final",
   "metadata": {},
   "source": [
    "You can see from the confusion matrix that classification is pretty good! The diagonal from top left to bottom right is \"denser\" than the off-diagonal, meaning that most articles are being classified correctly.\n",
    "\n",
    "However, you might notice that some languages are classified particularly poorly: Japanese and Chinese. It happens that these languages don't generally have spaces between their words, so the simple [tokenization](https://nlp.stanford.edu/IR-book/html/htmledition/tokenization-1.html) performed by our application - splitting on whitespace: `text.split(\" \")` - wasn't adequate. This can be fixed, but let's leave it for now!\n",
    "\n",
    "Also, notice that a lot of articles are misclassified as being English - this is because Naive Bayes is sensitive to the distribution of the data and because English is the most common, there's a bias for classifying things as being English. You can try experimenting with a \"flatter\" distribution.\n",
    "\n",
    "Let's also use some mathematical metrics to evaluate the model. The first, accuracy, is pretty simple:\n",
    "\n",
    "$$ accuracy = \\frac{number\\ of\\ correct\\ predictions}{number\\ of\\ all\\ predictions}$$\n",
    "\n",
    "Precision and recall are two standard ways of evaluating a model. Precision measures the fraction of articles correctly labeled _language X_ (True Positive) out of all articles labeled as _language X_ (True Positives and False Positives).\n",
    "\n",
    "$$ Precision = \\frac{TP}{TP + FP} $$\n",
    "\n",
    "Recall measures what fraction of a language's articles are correctly classified as belonging to that language. In other words, it's the number of True Positive identifications out of the total number of articles in that language (= True Positive + False Negative).\n",
    "\n",
    "$$ Precision = \\frac{TP}{TP + FN} $$\n",
    "\n",
    "The $F_1$ score is the weighted average of precision and recall, and is a useful way of combining the two metrics:\n",
    "\n",
    "$$ F_1 = 2 * \\frac{Precision * Recall}{Precision + Recall} $$"
   ]
  },
  {
   "cell_type": "code",
   "execution_count": null,
   "id": "political-williams",
   "metadata": {},
   "outputs": [],
   "source": [
    "# Accuracy\n",
    "classifier.score(X_test, y_test)"
   ]
  },
  {
   "cell_type": "code",
   "execution_count": null,
   "id": "independent-stockholm",
   "metadata": {},
   "outputs": [],
   "source": [
    "# F1 Score\n",
    "f1_score(y_true, y_pred, average=\"macro\")"
   ]
  },
  {
   "cell_type": "markdown",
   "id": "judicial-merit",
   "metadata": {},
   "source": [
    "When we build new classification models, we should use these metrics to compare the new models to existing ones. It's important to make sure that newer versions of a model don't perform worse!"
   ]
  },
  {
   "cell_type": "markdown",
   "id": "ready-liberty",
   "metadata": {},
   "source": [
    "Now let's build a class that lets us accept some model information and some text and classify it. We can easily swap out models when we have more models to test."
   ]
  },
  {
   "cell_type": "code",
   "execution_count": null,
   "id": "ruled-pathology",
   "metadata": {},
   "outputs": [],
   "source": [
    "class ModelPipeline(object):\n",
    "    def __init__(self, classifier, count_vect, tfidf_transformer, inverse_encoder):\n",
    "        self.classifier = classifier\n",
    "        self.count_vect = count_vect\n",
    "        self.tfidf_transformer = tfidf_transformer\n",
    "        self.inverse_encoder = inverse_encoder\n",
    "        \n",
    "    def classify(self, text):\n",
    "        counts = self.count_vect.transform(text)\n",
    "        tfidf = self.tfidf_transformer.transform(counts)\n",
    "        pred = self.classifier.predict(tfidf)\n",
    "    \n",
    "        return self.inverse_encoder.inverse_transform(pred)\n",
    "    \n",
    "model = ModelPipeline(classifier, count_vect, tfidf_transformer, label_encoder)\n",
    "\n",
    "# Surround the text in brackets because this function accepts an entire list of phrases.\n",
    "model.classify([\"This is some English text\", \"das ist Deutsch\", \"donde estan el banyo?\"])"
   ]
  },
  {
   "cell_type": "markdown",
   "id": "apparent-coalition",
   "metadata": {},
   "source": [
    "## Save model\n",
    "Let's save the model and its version so that we can use it later."
   ]
  },
  {
   "cell_type": "code",
   "execution_count": null,
   "id": "plastic-facial",
   "metadata": {},
   "outputs": [],
   "source": [
    "import joblib"
   ]
  },
  {
   "cell_type": "code",
   "execution_count": null,
   "id": "fewer-tension",
   "metadata": {},
   "outputs": [],
   "source": [
    "MODEL_NAME = \"NB_Classif\"\n",
    "MODEL_VERSION = \"1\"\n",
    "MODEL_PATH = f\"models/{MODEL_NAME}/{MODEL_VERSION}\""
   ]
  },
  {
   "cell_type": "code",
   "execution_count": null,
   "id": "sound-scroll",
   "metadata": {},
   "outputs": [],
   "source": [
    "joblib.dump(count_vect, f\"{MODEL_PATH}/count_vect.pkl\")\n",
    "joblib.dump(tfidf_transformer, f\"{MODEL_PATH}/tfidf_transformer.pkl\")\n",
    "joblib.dump(classifier, f\"{MODEL_PATH}/classifier.pkl\")\n",
    "joblib.dump(label_encoder, f\"{MODEL_PATH}/label_encoder.pkl\")"
   ]
  },
  {
   "cell_type": "code",
   "execution_count": null,
   "id": "promotional-matrix",
   "metadata": {},
   "outputs": [],
   "source": []
  }
 ],
 "metadata": {
  "kernelspec": {
   "display_name": "Python 3",
   "language": "python",
   "name": "python3"
  },
  "language_info": {
   "codemirror_mode": {
    "name": "ipython",
    "version": 3
   },
   "file_extension": ".py",
   "mimetype": "text/x-python",
   "name": "python",
   "nbconvert_exporter": "python",
   "pygments_lexer": "ipython3",
   "version": "3.8.5"
  }
 },
 "nbformat": 4,
 "nbformat_minor": 5
}
